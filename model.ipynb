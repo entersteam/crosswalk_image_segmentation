{
 "cells": [
  {
   "cell_type": "code",
   "execution_count": 23,
   "metadata": {},
   "outputs": [],
   "source": [
    "import numpy as np\n",
    "import cv2\n",
    "import os\n",
    "from glob import glob\n",
    "import tqdm\n",
    "from tensorflow.keras.optimizers import Adam\n",
    "from tensorflow.keras.losses import binary_crossentropy\n",
    "from tensorflow.keras.models import Model\n",
    "from tensorflow.keras.layers import Input, Conv2D, MaxPooling2D, UpSampling2D, Concatenate"
   ]
  },
  {
   "cell_type": "code",
   "execution_count": 11,
   "metadata": {},
   "outputs": [],
   "source": [
    "def unet_model(input_shape=(256, 256, 3), num_classes=1):\n",
    "    inputs = Input(input_shape)\n",
    "    \n",
    "    # Encoder\n",
    "    conv1 = Conv2D(64, 3, activation='relu', padding='same')(inputs)\n",
    "    conv1 = Conv2D(64, 3, activation='relu', padding='same')(conv1)\n",
    "    pool1 = MaxPooling2D(pool_size=(2, 2))(conv1)\n",
    "\n",
    "    # Decoder\n",
    "    up2 = Concatenate()([UpSampling2D(size=(2, 2))(conv1), conv1])\n",
    "    conv2 = Conv2D(64, 3, activation='relu', padding='same')(up2)\n",
    "    conv2 = Conv2D(64, 3, activation='relu', padding='same')(conv2)\n",
    "\n",
    "    outputs = Conv2D(num_classes, 1, activation='sigmoid')(conv2)  # Output binary mask\n",
    "\n",
    "    model = Model(inputs=inputs, outputs=outputs)\n",
    "    return model\n"
   ]
  },
  {
   "cell_type": "code",
   "execution_count": 12,
   "metadata": {},
   "outputs": [],
   "source": [
    "data_path = 'C:/crosswalk mask semantic'"
   ]
  },
  {
   "cell_type": "code",
   "execution_count": 24,
   "metadata": {},
   "outputs": [
    {
     "name": "stderr",
     "output_type": "stream",
     "text": [
      " 61%|██████    | 7530/12389 [00:50<00:32, 149.59it/s]\n"
     ]
    },
    {
     "ename": "KeyboardInterrupt",
     "evalue": "",
     "output_type": "error",
     "traceback": [
      "\u001b[1;31m---------------------------------------------------------------------------\u001b[0m",
      "\u001b[1;31mKeyboardInterrupt\u001b[0m                         Traceback (most recent call last)",
      "\u001b[1;32mc:\\Users\\rpgrp\\Documents\\GitHub\\crosswlak_image_segmentation\\model.ipynb Cell 4\u001b[0m line \u001b[0;36m6\n\u001b[0;32m      <a href='vscode-notebook-cell:/c%3A/Users/rpgrp/Documents/GitHub/crosswlak_image_segmentation/model.ipynb#W4sZmlsZQ%3D%3D?line=3'>4</a>\u001b[0m \u001b[39mif\u001b[39;00m i[\u001b[39m-\u001b[39m\u001b[39m3\u001b[39m:] \u001b[39m==\u001b[39m \u001b[39m'\u001b[39m\u001b[39mjpg\u001b[39m\u001b[39m'\u001b[39m:\n\u001b[0;32m      <a href='vscode-notebook-cell:/c%3A/Users/rpgrp/Documents/GitHub/crosswlak_image_segmentation/model.ipynb#W4sZmlsZQ%3D%3D?line=4'>5</a>\u001b[0m     images\u001b[39m.\u001b[39mappend(cv2\u001b[39m.\u001b[39mimread(data_path\u001b[39m+\u001b[39m\u001b[39m'\u001b[39m\u001b[39m/train/\u001b[39m\u001b[39m'\u001b[39m\u001b[39m+\u001b[39mi))\n\u001b[1;32m----> <a href='vscode-notebook-cell:/c%3A/Users/rpgrp/Documents/GitHub/crosswlak_image_segmentation/model.ipynb#W4sZmlsZQ%3D%3D?line=5'>6</a>\u001b[0m     masks\u001b[39m.\u001b[39mappend(cv2\u001b[39m.\u001b[39;49mimread(data_path\u001b[39m+\u001b[39;49m\u001b[39m'\u001b[39;49m\u001b[39m/train/\u001b[39;49m\u001b[39m'\u001b[39;49m\u001b[39m+\u001b[39;49mi[:\u001b[39m-\u001b[39;49m\u001b[39m4\u001b[39;49m]\u001b[39m+\u001b[39;49m\u001b[39m'\u001b[39;49m\u001b[39m_mask.png\u001b[39;49m\u001b[39m'\u001b[39;49m)[\u001b[39m0\u001b[39m])\n",
      "\u001b[1;31mKeyboardInterrupt\u001b[0m: "
     ]
    }
   ],
   "source": [
    "images = []\n",
    "masks = []\n",
    "for i in tqdm.tqdm(os.listdir(data_path+'/train/')):\n",
    "    if i[-3:] == 'jpg':\n",
    "        images.append(cv2.imread(data_path+'/train/'+i))\n",
    "        masks.append(cv2.imread(data_path+'/train/'+i[:-4]+'_mask.png')[0])"
   ]
  },
  {
   "cell_type": "code",
   "execution_count": 4,
   "metadata": {},
   "outputs": [],
   "source": [
    "def load_and_preprocess_data(images, masks, target_size=(640, 640)):\n",
    "    num_samples = len(images)\n",
    "    X = np.zeros((num_samples, *target_size, 3), dtype=np.float32)  # Input images\n",
    "    Y = np.zeros((num_samples, *target_size, 1), dtype=np.float32)  # Binary masks\n",
    "\n",
    "    for idx in range(num_samples):\n",
    "        # Load and preprocess the input image\n",
    "        img = images[idx]  # Load the image (you need to implement this part)\n",
    "        img = cv2.resize(img, target_size)  # Resize the image to the target size\n",
    "        img = img / 255.0  # Normalize pixel values to 0-1\n",
    "        X[idx] = img\n",
    "\n",
    "        # Load and preprocess the binary mask\n",
    "        mask = masks[idx]  # Load the binary mask (you need to implement this part)\n",
    "        mask = cv2.resize(mask, target_size)  # Resize the mask to the target size\n",
    "        mask = np.expand_dims(mask, axis=-1)  # Add channel dimension\n",
    "        mask = mask.astype(np.float32)  # Ensure the data type is float32\n",
    "        Y[idx] = mask\n",
    "\n",
    "    return X, Y\n",
    "\n",
    "# 예시 데이터 로딩 및 전처리\n",
    "# images, masks = load_data_from_disk()  # 이미지와 바이너리 마스크 데이터를 디스크에서 로드하는 함수 (실제 데이터에 맞게 구현 필요)\n",
    "# X_train, Y_train = load_and_preprocess_data(images, masks)\n"
   ]
  },
  {
   "cell_type": "code",
   "execution_count": null,
   "metadata": {},
   "outputs": [],
   "source": [
    "\n",
    "model = unet_model()\n",
    "model.compile(optimizer=Adam(lr=1e-4), loss=binary_crossentropy, metrics=['accuracy'])\n",
    "\n",
    "# 데이터 로딩 및 전처리\n",
    "X_train, Y_train = load_and_preprocess_data()\n",
    "\n",
    "# 모델 학습\n",
    "model.fit(X_train, Y_train, batch_size=32, epochs=50, validation_split=0.1)\n"
   ]
  }
 ],
 "metadata": {
  "kernelspec": {
   "display_name": "Python 3",
   "language": "python",
   "name": "python3"
  },
  "language_info": {
   "codemirror_mode": {
    "name": "ipython",
    "version": 3
   },
   "file_extension": ".py",
   "mimetype": "text/x-python",
   "name": "python",
   "nbconvert_exporter": "python",
   "pygments_lexer": "ipython3",
   "version": "3.11.6"
  }
 },
 "nbformat": 4,
 "nbformat_minor": 2
}
